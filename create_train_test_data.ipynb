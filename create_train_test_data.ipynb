{
 "cells": [
  {
   "cell_type": "code",
   "execution_count": 15,
   "metadata": {},
   "outputs": [],
   "source": [
    "import pandas as pd \n",
    "LAYER=32"
   ]
  },
  {
   "cell_type": "code",
   "execution_count": 16,
   "metadata": {},
   "outputs": [],
   "source": [
    "languages = ['cpp','cs','java','js','php','python','sh','ts']"
   ]
  },
  {
   "cell_type": "code",
   "execution_count": 25,
   "metadata": {},
   "outputs": [],
   "source": [
    "def get_label_df(lang):\n",
    "    source_lang_path = f'data/ds67{lang}/output2/LFCLF_embedding_human_eval_deepseek-ai_deepseek-coder-6.7b-instruct_{LAYER}.parquet'\n",
    "    label_lang_path = f'data/ds67{lang}/output2/LFCLF_embedding_human_eval_deepseek-ai_deepseek-coder-6.7b-instruct_1_label.parquet'\n",
    "    # print(source_lang_path)\n",
    "    # print(label_lang_path)\n",
    "    df_source = pd.read_parquet(source_lang_path)\n",
    "    df_label = pd.read_parquet(label_lang_path)\n",
    "    # print(df_label.head(1))\n",
    "    result = list()\n",
    "    for idx,row in df_source.iterrows():\n",
    "        row['label'] = 1 if df_label.at[idx, 'label'] else 0\n",
    "        result.append(row)\n",
    "    return pd.DataFrame(result)    "
   ]
  },
  {
   "cell_type": "code",
   "execution_count": null,
   "metadata": {},
   "outputs": [],
   "source": [
    "SETTING = 'cross_language'\n",
    "out_dir = 'data/data_for_classify'\n",
    "import os\n",
    "\n",
    "for language in languages:\n",
    "    test_df = get_label_df(language)\n",
    "    trains = list()\n",
    "    for otherlang in languages:\n",
    "        if otherlang == language:\n",
    "            continue\n",
    "        trains.append(get_label_df(otherlang))\n",
    "    train_df = pd.concat(trains)\n",
    "    train_df = train_df.sample(frac = 1)\n",
    "    out_dir_lang = os.path.join(out_dir,language)\n",
    "    if not os.path.exists(out_dir_lang):\n",
    "        os.mkdir(out_dir_lang)\n",
    "    test_df.to_parquet(os.path.join(out_dir_lang,'test.parquet'))\n",
    "    train_df.to_parquet(os.path.join(out_dir_lang,'train.parquet'))\n",
    "    print(language,test_df.shape,train_df.shape)\n",
    "    print(test_df['label'].value_counts())\n",
    "    print(train_df['label'].value_counts())\n"
   ]
  },
  {
   "cell_type": "code",
   "execution_count": null,
   "metadata": {},
   "outputs": [],
   "source": [
    "train_df.head(1)"
   ]
  },
  {
   "cell_type": "code",
   "execution_count": null,
   "metadata": {},
   "outputs": [],
   "source": [
    "SETTING = 'cross_language'\n",
    "out_dir = 'data/data_for_classify'\n",
    "import os\n",
    "import re\n",
    "train = list()\n",
    "test = list()\n",
    "dfs = list()\n",
    "for language in languages:\n",
    "    dfs.append(get_label_df(language))\n",
    "data_df = pd.concat(dfs)\n",
    "\n",
    "with open('data/train.txt') as f:\n",
    "    train_id = [int(l.strip()) for l in f.readlines()]\n",
    "with open('data/test.txt') as f:\n",
    "    test_id = [int(l.strip()) for l in f.readlines()]\n",
    "\n",
    "for _,row in data_df.iterrows():\n",
    "    task_id = row['task_id']\n",
    "    numbers = re.findall(r'\\d+', task_id)\n",
    "    if len(numbers) <= 0:\n",
    "        train.append(row)\n",
    "        continue\n",
    "    if int(numbers[0]) in train_id:\n",
    "        train.append(row)\n",
    "    else:\n",
    "        test.append(row)\n",
    "\n",
    "train_df = pd.DataFrame(train)\n",
    "test_df = pd.DataFrame(test)\n",
    "\n",
    "train_df = train_df.sample(frac = 1)\n",
    "out_dir_lang = os.path.join(out_dir,'cross_task')\n",
    "if not os.path.exists(out_dir_lang):\n",
    "    os.mkdir(out_dir_lang)\n",
    "test_df.to_parquet(os.path.join(out_dir_lang,'test.parquet'))\n",
    "train_df.to_parquet(os.path.join(out_dir_lang,'train.parquet'))\n",
    "print(language,test_df.shape,train_df.shape)\n",
    "print(test_df['label'].value_counts())\n",
    "print(train_df['label'].value_counts())\n"
   ]
  },
  {
   "cell_type": "code",
   "execution_count": null,
   "metadata": {},
   "outputs": [],
   "source": [
    "train_df.head(10)"
   ]
  }
 ],
 "metadata": {
  "kernelspec": {
   "display_name": "qallmcode",
   "language": "python",
   "name": "python3"
  },
  "language_info": {
   "codemirror_mode": {
    "name": "ipython",
    "version": 3
   },
   "file_extension": ".py",
   "mimetype": "text/x-python",
   "name": "python",
   "nbconvert_exporter": "python",
   "pygments_lexer": "ipython3",
   "version": "3.13.1"
  }
 },
 "nbformat": 4,
 "nbformat_minor": 2
}
